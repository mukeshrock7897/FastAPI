{
 "cells": [
  {
   "cell_type": "markdown",
   "metadata": {},
   "source": [
    "\n",
    "---\n",
    "\n",
    "# 🔗 Path, Query & Body\n",
    "\n",
    "> **Intent** → Accept input from clients in the right place, with clarity and validation.\n",
    "\n",
    "---\n",
    "\n",
    "## 📍 Path Parameters\n",
    "\n",
    "* Identify a **specific resource**\n",
    "* Always required, part of the URL\n",
    "* Example: `/users/{id}` → get one user\n",
    "\n",
    "---\n",
    "\n",
    "## ❓ Query Parameters\n",
    "\n",
    "* Control **filters, sorting, pagination**\n",
    "* Optional, flexible, order-independent\n",
    "* Example: `/users?status=active&limit=20`\n",
    "\n",
    "---\n",
    "\n",
    "## 📦 Request Body\n",
    "\n",
    "* Carry **complex or structured data**\n",
    "* Used in create/update operations\n",
    "* JSON by default; can support others (XML, form-data)\n",
    "\n",
    "---\n",
    "\n",
    "## 🎯 Best Practices\n",
    "\n",
    "* Keep path params for **resource identity**\n",
    "* Use query params for **tuning the response**\n",
    "* Put full payloads in the body\n",
    "* Always validate → reject missing/invalid fields early\n",
    "\n",
    "---\n",
    "\n",
    "## 🏁 Outcome\n",
    "\n",
    "A **clean separation of concerns**:\n",
    "\n",
    "* Path = *which resource*\n",
    "* Query = *how to fetch it*\n",
    "* Body = *what to send or update*\n",
    "\n",
    "---\n"
   ]
  }
 ],
 "metadata": {
  "language_info": {
   "name": "python"
  }
 },
 "nbformat": 4,
 "nbformat_minor": 2
}
