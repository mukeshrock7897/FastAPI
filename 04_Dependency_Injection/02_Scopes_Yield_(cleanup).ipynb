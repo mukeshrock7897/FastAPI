{
 "cells": [
  {
   "cell_type": "markdown",
   "metadata": {},
   "source": [
    "\n",
    "---\n",
    "\n",
    "# 🔄 Dependency Injection — Scopes & Yield (Cleanup)\n",
    "\n",
    "> **Intent** → Manage resources that need **setup + teardown** (DB sessions, connections, locks) safely inside the DI system.\n",
    "\n",
    "---\n",
    "\n",
    "## 🎯 Why Use `yield`\n",
    "\n",
    "* Create a resource → pass it into the route\n",
    "* After route finishes → **clean it up automatically**\n",
    "* Avoids leaks, dangling connections, or unclosed files\n",
    "\n",
    "---\n",
    "\n",
    "## 🔁 Scope Types\n",
    "\n",
    "* **Per-request** → DB session, HTTP client, user context\n",
    "* **App-wide** → settings, static cache, service clients\n",
    "* **Custom scopes** → e.g., per WebSocket or background worker\n",
    "\n",
    "---\n",
    "\n",
    "## 🧹 Cleanup Examples\n",
    "\n",
    "* DB → commit/rollback & close session\n",
    "* Files → open, read/write, then close\n",
    "* External clients → close connections gracefully\n",
    "* Metrics/logging → flush after use\n",
    "\n",
    "---\n",
    "\n",
    "## 🧪 Testing Benefits\n",
    "\n",
    "* Deterministic resource lifecycle → no leaks in tests\n",
    "* Easy to substitute **mock resources** with the same cleanup pattern\n",
    "* Simulates real-world resource churn under load\n",
    "\n",
    "---\n",
    "\n",
    "## ⚖️ Best Practices\n",
    "\n",
    "* Keep **yield providers small** → focused on one resource\n",
    "* Always handle **errors in cleanup** (rollback, safe close)\n",
    "* Don’t overload DI with business logic → keep it about resource mgmt\n",
    "\n",
    "---\n",
    "\n",
    "## 🏁 Outcome\n",
    "\n",
    "With **yield-based DI**, resources are **predictable, safe, and disposable**—ensuring stability in both production and tests.\n",
    "\n",
    "---\n"
   ]
  },
  {
   "cell_type": "markdown",
   "metadata": {},
   "source": []
  }
 ],
 "metadata": {
  "language_info": {
   "name": "python"
  }
 },
 "nbformat": 4,
 "nbformat_minor": 2
}
